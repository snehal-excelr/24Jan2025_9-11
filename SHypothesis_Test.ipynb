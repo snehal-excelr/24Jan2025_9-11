{
  "nbformat": 4,
  "nbformat_minor": 0,
  "metadata": {
    "kernelspec": {
      "display_name": "Python 3",
      "language": "python",
      "name": "python3"
    },
    "language_info": {
      "codemirror_mode": {
        "name": "ipython",
        "version": 3
      },
      "file_extension": ".py",
      "mimetype": "text/x-python",
      "name": "python",
      "nbconvert_exporter": "python",
      "pygments_lexer": "ipython3",
      "version": "3.7.4"
    },
    "colab": {
      "provenance": []
    },
    "gpuClass": "standard"
  },
  "cells": [
    {
      "cell_type": "code",
      "metadata": {
        "id": "lUamWcSv9Iy7"
      },
      "source": [
        "#import the libraries\n",
        "import pandas as pd\n",
        "import numpy as np\n",
        "from scipy import stats"
      ],
      "execution_count": 1,
      "outputs": []
    },
    {
      "cell_type": "markdown",
      "metadata": {
        "id": "EZmTWLBk9IzE"
      },
      "source": [
        "# Super Market example"
      ]
    },
    {
      "cell_type": "code",
      "metadata": {
        "colab": {
          "base_uri": "https://localhost:8080/"
        },
        "id": "EbPWfEp49IzF",
        "outputId": "0ddf288f-44d1-4187-eec5-94bd03d3588b"
      },
      "source": [
        "1-(stats.t.cdf(2.2,df=79)) #df: degrees of freedom i.e. n-1"
      ],
      "execution_count": 2,
      "outputs": [
        {
          "output_type": "execute_result",
          "data": {
            "text/plain": [
              "0.015364507770762481"
            ]
          },
          "metadata": {},
          "execution_count": 2
        }
      ]
    },
    {
      "cell_type": "code",
      "source": [
        "stats.t.cdf(-2.2,79)"
      ],
      "metadata": {
        "colab": {
          "base_uri": "https://localhost:8080/"
        },
        "id": "ssoJlBOo5xAr",
        "outputId": "55167a09-fac0-4c83-d4c1-19b7e53ddeec"
      },
      "execution_count": 3,
      "outputs": [
        {
          "output_type": "execute_result",
          "data": {
            "text/plain": [
              "0.015364507770762441"
            ]
          },
          "metadata": {},
          "execution_count": 3
        }
      ]
    },
    {
      "cell_type": "markdown",
      "metadata": {
        "id": "1mULoszZ9IzG"
      },
      "source": [
        "# Call Center example"
      ]
    },
    {
      "cell_type": "code",
      "source": [
        "# Call center example\n",
        "# 1st way\n",
        "p2=1-stats.t.cdf(1.4,49)\n",
        "p=p2*2\n",
        "p"
      ],
      "metadata": {
        "colab": {
          "base_uri": "https://localhost:8080/"
        },
        "id": "3VaTcNnPLQwm",
        "outputId": "7aad714c-9cab-4bcb-cb27-1275d087c1a7"
      },
      "execution_count": 4,
      "outputs": [
        {
          "output_type": "execute_result",
          "data": {
            "text/plain": [
              "0.16781331091681295"
            ]
          },
          "metadata": {},
          "execution_count": 4
        }
      ]
    },
    {
      "cell_type": "code",
      "source": [
        "# Call center example\n",
        "# 2nd way\n",
        "p1=stats.t.cdf(-1.4,49)\n",
        "p=p1*2\n",
        "p"
      ],
      "metadata": {
        "colab": {
          "base_uri": "https://localhost:8080/"
        },
        "id": "h2LsfU7kMBrM",
        "outputId": "1ed0346b-f7fe-476b-d45d-7be94282b1f2"
      },
      "execution_count": 5,
      "outputs": [
        {
          "output_type": "execute_result",
          "data": {
            "text/plain": [
              "0.16781331091681306"
            ]
          },
          "metadata": {},
          "execution_count": 5
        }
      ]
    },
    {
      "cell_type": "code",
      "source": [
        "# Call center example\n",
        "\n",
        "# 3rd way\n",
        "p=2*stats.t.cdf(-1.4,49)\n",
        "print(p)\n",
        "#print(round(r,4))\n",
        "print(\"Rounded Value=\",round(p,4))\n"
      ],
      "metadata": {
        "id": "ehACYK4BDsY-",
        "colab": {
          "base_uri": "https://localhost:8080/"
        },
        "outputId": "b2216e31-bd63-4eb6-c4d3-20410c38f107"
      },
      "execution_count": 6,
      "outputs": [
        {
          "output_type": "stream",
          "name": "stdout",
          "text": [
            "0.16781331091681306\n",
            "Rounded Value= 0.1678\n"
          ]
        }
      ]
    },
    {
      "cell_type": "code",
      "metadata": {
        "id": "jd571TPa9IzH",
        "colab": {
          "base_uri": "https://localhost:8080/"
        },
        "outputId": "3adaaa88-50ea-4c96-90a8-5401f9bea9dd"
      },
      "source": [
        "# to calculate t value\n",
        "t=(7.2-4)/(3/np.sqrt(50)) # t value for x bar=4.6, mu=4, s=3, n=50\n",
        "t"
      ],
      "execution_count": 7,
      "outputs": [
        {
          "output_type": "execute_result",
          "data": {
            "text/plain": [
              "7.542472332656508"
            ]
          },
          "metadata": {},
          "execution_count": 7
        }
      ]
    },
    {
      "cell_type": "code",
      "metadata": {
        "id": "ccJtViUf9IzH",
        "colab": {
          "base_uri": "https://localhost:8080/"
        },
        "outputId": "800c29d9-7a02-410d-87d6-59289d67e9bc"
      },
      "source": [
        "p=2*stats.t.cdf(-7.542472332656508,49)\n",
        "p"
      ],
      "execution_count": 8,
      "outputs": [
        {
          "output_type": "execute_result",
          "data": {
            "text/plain": [
              "9.626040426487692e-10"
            ]
          },
          "metadata": {},
          "execution_count": 8
        }
      ]
    },
    {
      "cell_type": "markdown",
      "metadata": {
        "id": "X44BOLSY9IzI"
      },
      "source": [
        "# One tail test"
      ]
    },
    {
      "cell_type": "code",
      "metadata": {
        "id": "5AdMc91m9IzJ"
      },
      "source": [
        "# Ice-cream factory example\n",
        "import pandas as pd\n",
        "from scipy import stats\n",
        "data=pd.Series([0.593, 0.142, 0.329, 0.691, 0.231, 0.793, 0.519, 0.392, 0.418])\n"
      ],
      "execution_count": 9,
      "outputs": []
    },
    {
      "cell_type": "code",
      "source": [
        "data"
      ],
      "metadata": {
        "id": "CmvRzvyhGu4c",
        "colab": {
          "base_uri": "https://localhost:8080/",
          "height": 366
        },
        "outputId": "89c3f543-ab39-4110-e0e2-e3658592b452",
        "collapsed": true
      },
      "execution_count": 10,
      "outputs": [
        {
          "output_type": "execute_result",
          "data": {
            "text/plain": [
              "0    0.593\n",
              "1    0.142\n",
              "2    0.329\n",
              "3    0.691\n",
              "4    0.231\n",
              "5    0.793\n",
              "6    0.519\n",
              "7    0.392\n",
              "8    0.418\n",
              "dtype: float64"
            ],
            "text/html": [
              "<div>\n",
              "<style scoped>\n",
              "    .dataframe tbody tr th:only-of-type {\n",
              "        vertical-align: middle;\n",
              "    }\n",
              "\n",
              "    .dataframe tbody tr th {\n",
              "        vertical-align: top;\n",
              "    }\n",
              "\n",
              "    .dataframe thead th {\n",
              "        text-align: right;\n",
              "    }\n",
              "</style>\n",
              "<table border=\"1\" class=\"dataframe\">\n",
              "  <thead>\n",
              "    <tr style=\"text-align: right;\">\n",
              "      <th></th>\n",
              "      <th>0</th>\n",
              "    </tr>\n",
              "  </thead>\n",
              "  <tbody>\n",
              "    <tr>\n",
              "      <th>0</th>\n",
              "      <td>0.593</td>\n",
              "    </tr>\n",
              "    <tr>\n",
              "      <th>1</th>\n",
              "      <td>0.142</td>\n",
              "    </tr>\n",
              "    <tr>\n",
              "      <th>2</th>\n",
              "      <td>0.329</td>\n",
              "    </tr>\n",
              "    <tr>\n",
              "      <th>3</th>\n",
              "      <td>0.691</td>\n",
              "    </tr>\n",
              "    <tr>\n",
              "      <th>4</th>\n",
              "      <td>0.231</td>\n",
              "    </tr>\n",
              "    <tr>\n",
              "      <th>5</th>\n",
              "      <td>0.793</td>\n",
              "    </tr>\n",
              "    <tr>\n",
              "      <th>6</th>\n",
              "      <td>0.519</td>\n",
              "    </tr>\n",
              "    <tr>\n",
              "      <th>7</th>\n",
              "      <td>0.392</td>\n",
              "    </tr>\n",
              "    <tr>\n",
              "      <th>8</th>\n",
              "      <td>0.418</td>\n",
              "    </tr>\n",
              "  </tbody>\n",
              "</table>\n",
              "</div><br><label><b>dtype:</b> float64</label>"
            ]
          },
          "metadata": {},
          "execution_count": 10
        }
      ]
    },
    {
      "cell_type": "code",
      "source": [
        "stats.ttest_1samp(data,0.3) # population mean = 0.3, this method always give you 2 tail p-value\n",
        "# t-value=2.2050588385131595 and pvalue=0.05853032968489765 here, p = p1+p2\n",
        "# index of t-value is 0 and p-value is 1"
      ],
      "metadata": {
        "id": "U6G63lJCnnjV",
        "colab": {
          "base_uri": "https://localhost:8080/"
        },
        "outputId": "bdf33654-90a2-4d56-ae13-37f3465e27da"
      },
      "execution_count": 11,
      "outputs": [
        {
          "output_type": "execute_result",
          "data": {
            "text/plain": [
              "TtestResult(statistic=2.2050588385131595, pvalue=0.05853032968489765, df=8)"
            ]
          },
          "metadata": {},
          "execution_count": 11
        }
      ]
    },
    {
      "cell_type": "code",
      "source": [
        "\n",
        "p=stats.ttest_1samp(data,0.3)[1] # mu=0.3, index of p-value is 1, so [1] is given\n",
        "# pvalue=0.05853032968489765 here, p = p1+p2\n",
        "p"
      ],
      "metadata": {
        "id": "BYRApn_AFU7w",
        "colab": {
          "base_uri": "https://localhost:8080/"
        },
        "outputId": "6150536f-0bb0-42a5-d35c-1042781c09c7"
      },
      "execution_count": 12,
      "outputs": [
        {
          "output_type": "execute_result",
          "data": {
            "text/plain": [
              "0.05853032968489765"
            ]
          },
          "metadata": {},
          "execution_count": 12
        }
      ]
    },
    {
      "cell_type": "code",
      "metadata": {
        "id": "F7kKghKC9IzJ",
        "colab": {
          "base_uri": "https://localhost:8080/"
        },
        "outputId": "5bace87a-4acb-476d-e132-bdb69655fbfa"
      },
      "source": [
        "#As this is a one tail test p value so divide by 2 to get final p-value\n",
        "p_value= p/2\n",
        "p_value\n",
        "# Null Hypo. is Mu<=0.3, Alter. Hypo. is Mu>0.3,\n",
        "# Alfa = 0.05, P-value we got is 0.029 So p<alfa. So reject Null Hypo.\n",
        "# So go for Alt. Hypo.\n",
        "# interpret it: As mean value Mu >0.3 factory is causing problem."
      ],
      "execution_count": 13,
      "outputs": [
        {
          "output_type": "execute_result",
          "data": {
            "text/plain": [
              "0.029265164842448826"
            ]
          },
          "metadata": {},
          "execution_count": 13
        }
      ]
    },
    {
      "cell_type": "code",
      "source": [
        "alpha=0.05\n",
        "if p<alpha:\n",
        "  print(\"Reject Null\")\n",
        "else:\n",
        "  print(\"Accept Null\")"
      ],
      "metadata": {
        "colab": {
          "base_uri": "https://localhost:8080/"
        },
        "id": "2nrATyel2dgA",
        "outputId": "2ca96e2d-7b94-4e0e-d7b3-529aef84096b"
      },
      "execution_count": 14,
      "outputs": [
        {
          "output_type": "stream",
          "name": "stdout",
          "text": [
            "Accept Null\n"
          ]
        }
      ]
    },
    {
      "cell_type": "markdown",
      "metadata": {
        "id": "OQcLaxKQ9IzK"
      },
      "source": [
        "# Two Sample Two Tail test - From scipy - stats.ttest_ind(sample1, sample2)"
      ]
    },
    {
      "cell_type": "code",
      "metadata": {
        "id": "2H86Jc5K9IzK"
      },
      "source": [
        "# 2-Sample 2-tail test\n",
        "# comparing drugs - Control group and treatment group\n",
        "Control=pd.Series([91, 87, 99, 77, 88, 91])\n",
        "Treat =pd.Series([101, 110, 103, 93, 99, 104])"
      ],
      "execution_count": null,
      "outputs": []
    },
    {
      "cell_type": "code",
      "metadata": {
        "id": "PRp0EbAK9IzK",
        "outputId": "9bd3e652-ecb9-4974-a4ff-de33d4e7bd54",
        "colab": {
          "base_uri": "https://localhost:8080/"
        }
      },
      "source": [
        "stats.ttest_ind(Control,Treat) # two tail independent\n",
        "# p=p1+p2. We are conducting 2 sample 2 tail test, so no need to divide p by 2.\n",
        "# p=0.006, alfa=0.05, p<alfa so reject null hypo. so accept alt. Hypo\n",
        "# interpretation: 2 responses are not equal so drug is working."
      ],
      "execution_count": null,
      "outputs": [
        {
          "output_type": "execute_result",
          "data": {
            "text/plain": [
              "TtestResult(statistic=-3.4456126735364876, pvalue=0.006272124350809803, df=10.0)"
            ]
          },
          "metadata": {},
          "execution_count": 15
        }
      ]
    },
    {
      "cell_type": "markdown",
      "metadata": {
        "id": "94BexGGD9IzL"
      },
      "source": [
        "# 2 Proportion t-Test - From statsmodels.api - stats.ttest_ind(proportion1, proportion2)"
      ]
    },
    {
      "cell_type": "code",
      "metadata": {
        "id": "zYXEJkmZ9IzL"
      },
      "source": [
        "import numpy as np"
      ],
      "execution_count": null,
      "outputs": []
    },
    {
      "cell_type": "code",
      "metadata": {
        "id": "6NHBJpRp9IzL"
      },
      "source": [
        "#Data: Placement Data example\n",
        "\n",
        "n1 = 247 #eligible students\n",
        "p1 = .37 # proportion is 0.37\n",
        "\n",
        "n2 = 308\n",
        "p2 = .39 # proportion is 0.39"
      ],
      "execution_count": null,
      "outputs": []
    },
    {
      "cell_type": "code",
      "source": [
        "sample1 = np.random.binomial(1, p1, n1) # as its a random function every time you execute, you will get diff ans."
      ],
      "metadata": {
        "id": "RqljjYLFdwve"
      },
      "execution_count": null,
      "outputs": []
    },
    {
      "cell_type": "code",
      "source": [
        "sample1 # 247 student's data. 0-not placed, 1-placed"
      ],
      "metadata": {
        "id": "Txx65lYRP1O6",
        "colab": {
          "base_uri": "https://localhost:8080/"
        },
        "outputId": "d8b5e526-2ef1-458a-9ba6-d356da7c5b7c"
      },
      "execution_count": null,
      "outputs": [
        {
          "output_type": "execute_result",
          "data": {
            "text/plain": [
              "array([0, 1, 0, 1, 0, 0, 1, 0, 0, 0, 1, 0, 0, 0, 0, 0, 1, 1, 0, 0, 0, 0,\n",
              "       0, 0, 0, 0, 1, 0, 0, 1, 0, 0, 0, 0, 0, 0, 1, 0, 0, 1, 0, 0, 0, 0,\n",
              "       1, 0, 1, 1, 1, 0, 1, 0, 1, 0, 0, 1, 0, 1, 0, 1, 0, 0, 1, 1, 0, 0,\n",
              "       1, 1, 1, 1, 0, 0, 0, 1, 0, 1, 1, 1, 1, 1, 0, 1, 1, 0, 1, 1, 1, 0,\n",
              "       0, 0, 1, 0, 0, 0, 0, 0, 1, 0, 1, 0, 0, 0, 0, 0, 1, 0, 0, 1, 1, 1,\n",
              "       0, 0, 0, 1, 1, 1, 0, 0, 0, 0, 1, 0, 1, 0, 1, 0, 0, 1, 1, 1, 1, 0,\n",
              "       1, 0, 0, 0, 1, 0, 0, 0, 0, 0, 0, 0, 1, 1, 1, 0, 0, 1, 0, 1, 0, 0,\n",
              "       0, 0, 1, 0, 1, 1, 1, 0, 1, 0, 0, 0, 0, 0, 0, 1, 1, 1, 1, 1, 0, 1,\n",
              "       1, 1, 0, 1, 0, 1, 0, 0, 1, 0, 0, 0, 1, 0, 0, 0, 1, 1, 1, 0, 0, 1,\n",
              "       0, 1, 1, 0, 0, 0, 1, 0, 0, 0, 0, 0, 1, 1, 0, 0, 0, 1, 0, 0, 0, 1,\n",
              "       0, 0, 0, 1, 0, 1, 0, 0, 1, 0, 0, 0, 0, 0, 0, 1, 0, 0, 0, 0, 0, 0,\n",
              "       0, 0, 1, 0, 1])"
            ]
          },
          "metadata": {},
          "execution_count": 18
        }
      ]
    },
    {
      "cell_type": "code",
      "source": [
        "len(sample1)"
      ],
      "metadata": {
        "colab": {
          "base_uri": "https://localhost:8080/"
        },
        "id": "cScR1POLu1ti",
        "outputId": "a4f131c1-2040-47b7-f53a-3eabf390489b"
      },
      "execution_count": null,
      "outputs": [
        {
          "output_type": "execute_result",
          "data": {
            "text/plain": [
              "247"
            ]
          },
          "metadata": {},
          "execution_count": 19
        }
      ]
    },
    {
      "cell_type": "code",
      "source": [
        "sample2 = np.random.binomial(1, p2, n2) # as its a random function every time you execute, you will get diff ans."
      ],
      "metadata": {
        "id": "wX9tK00Uwjbc"
      },
      "execution_count": null,
      "outputs": []
    },
    {
      "cell_type": "code",
      "metadata": {
        "id": "ikgv7zTZ9IzN",
        "colab": {
          "base_uri": "https://localhost:8080/"
        },
        "outputId": "2d0391f0-1090-42e5-db1b-8c0d88f30ea1"
      },
      "source": [
        "sample2"
      ],
      "execution_count": null,
      "outputs": [
        {
          "output_type": "execute_result",
          "data": {
            "text/plain": [
              "array([0, 0, 1, 0, 1, 0, 1, 1, 0, 1, 0, 1, 0, 0, 0, 0, 0, 0, 1, 0, 1, 1,\n",
              "       1, 0, 1, 1, 1, 1, 0, 0, 0, 1, 1, 0, 0, 0, 1, 1, 1, 1, 0, 1, 0, 1,\n",
              "       0, 1, 0, 1, 0, 1, 1, 0, 0, 0, 1, 1, 0, 0, 0, 1, 0, 1, 1, 1, 1, 0,\n",
              "       0, 0, 1, 1, 0, 0, 0, 0, 1, 1, 0, 0, 1, 0, 0, 0, 0, 0, 0, 0, 0, 0,\n",
              "       1, 1, 0, 0, 1, 0, 0, 0, 1, 1, 0, 1, 0, 0, 0, 0, 1, 0, 0, 0, 1, 1,\n",
              "       0, 0, 0, 0, 1, 0, 1, 1, 1, 0, 1, 0, 0, 1, 1, 0, 0, 1, 0, 0, 1, 0,\n",
              "       1, 0, 1, 1, 0, 1, 0, 1, 1, 1, 1, 1, 0, 0, 0, 0, 0, 1, 0, 0, 0, 0,\n",
              "       0, 1, 0, 1, 1, 0, 1, 0, 0, 0, 0, 0, 0, 1, 1, 1, 1, 1, 0, 0, 0, 1,\n",
              "       0, 0, 0, 1, 0, 0, 0, 0, 1, 1, 1, 0, 0, 1, 0, 0, 0, 0, 1, 1, 0, 1,\n",
              "       0, 0, 0, 0, 1, 0, 0, 1, 0, 0, 1, 0, 1, 0, 0, 0, 0, 0, 0, 0, 0, 0,\n",
              "       0, 1, 0, 0, 0, 1, 1, 0, 1, 0, 0, 0, 0, 0, 1, 0, 0, 0, 1, 0, 0, 0,\n",
              "       0, 1, 1, 0, 1, 0, 0, 0, 0, 0, 0, 1, 1, 0, 1, 1, 1, 0, 0, 0, 0, 1,\n",
              "       0, 0, 0, 0, 0, 0, 1, 0, 0, 1, 0, 1, 0, 1, 1, 0, 0, 0, 0, 1, 0, 1,\n",
              "       1, 0, 0, 0, 1, 1, 1, 0, 0, 0, 0, 1, 0, 0, 0, 1, 0, 0, 0, 0, 1, 0])"
            ]
          },
          "metadata": {},
          "execution_count": 21
        }
      ]
    },
    {
      "cell_type": "code",
      "source": [
        "len(sample2)"
      ],
      "metadata": {
        "colab": {
          "base_uri": "https://localhost:8080/"
        },
        "id": "Eeh6o5Plu16K",
        "outputId": "791402fc-6e14-457f-d750-7d9d72c1e5f7"
      },
      "execution_count": null,
      "outputs": [
        {
          "output_type": "execute_result",
          "data": {
            "text/plain": [
              "308"
            ]
          },
          "metadata": {},
          "execution_count": 22
        }
      ]
    },
    {
      "cell_type": "code",
      "metadata": {
        "id": "cOKI7ZtV9IzO",
        "colab": {
          "base_uri": "https://localhost:8080/"
        },
        "outputId": "90a6a860-51e1-4115-f2f3-b9bd087e1380"
      },
      "source": [
        "import statsmodels.api as sm # two proportion test function is available in statsmodels.api only\n",
        "p=sm.stats.ttest_ind(sample1, sample2)[1]# 2 sample, 2 tail test. Middle is the p-value\n",
        "# p>0.05 so accept null hypo.\n",
        "# interpretation: students are almost equally got placed in 2 states.\n",
        "# i.e. no significant difference in providing placement opportunities to students in 2 states.\n",
        "print(p)\n",
        "print(round(p,3))"
      ],
      "execution_count": null,
      "outputs": [
        {
          "output_type": "stream",
          "name": "stdout",
          "text": [
            "0.986624267051072\n",
            "0.987\n"
          ]
        }
      ]
    }
  ]
}